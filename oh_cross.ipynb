{
 "cells": [
  {
   "cell_type": "code",
   "execution_count": 11,
   "id": "f689e96e",
   "metadata": {},
   "outputs": [],
   "source": [
    "# import autograd-wrapped numpy\n",
    "import autograd.numpy as np\n",
    "from sklearn import svm\n",
    "\n",
    "datapath = \"C:\\\\Users\\\\ohjui\\\\Desktop\\\\northwestern tings\\\\Fall 2022\\\\EE 375\\\\NailBiter\\\\Datasets\\\\\""
   ]
  },
  {
   "cell_type": "code",
   "execution_count": 55,
   "id": "3d69bb58",
   "metadata": {},
   "outputs": [
    {
     "name": "stdout",
     "output_type": "stream",
     "text": [
      "There are 1 missclassifications from the training dataset\n",
      "There are 0 missclassifications from the validation dataset\n"
     ]
    }
   ],
   "source": [
    "# load in data\n",
    "csvname = 'sitting_at_desk_biting.csv'\n",
    "data_biting = np.loadtxt(datapath + csvname, delimiter = ',')\n",
    "\n",
    "csvname = 'sitting_at_desk_not_biting.csv'\n",
    "data_not_biting = np.loadtxt(datapath + csvname, delimiter = ',')\n",
    "\n",
    "# training dataset\n",
    "x_train = np.zeros((930 + 2545, 6))\n",
    "y_train = np.zeros(930 + 2545)\n",
    "x_train[:930,:] = data_biting[:930]\n",
    "x_train[930:,:] = data_not_biting[:2545]\n",
    "y_train[:930] = 1\n",
    "y_train[930:] = -1\n",
    "\n",
    "# validation dataset\n",
    "x_validate = np.zeros((100 + 283, 6))\n",
    "y_validate = np.zeros(100 + 283)\n",
    "x_validate[:100,:] = data_biting[930:]\n",
    "x_validate[100:,:] = data_not_biting[2545:]\n",
    "y_validate[:100] = 1\n",
    "y_validate[100:] = -1\n",
    "\n",
    "# SVM from sklearn\n",
    "clf = svm.SVC()\n",
    "clf.fit(x_train, y_train)\n",
    "\n",
    "# calculate missclassifications\n",
    "miss_train = np.size(y_train) - np.sum(clf.predict(x_train) == y_train)\n",
    "miss_validate = np.size(y_validate) - np.sum(clf.predict(x_validate) == y_validate)\n",
    "\n",
    "print(\"There are\", miss_train, \"missclassifications from the training dataset\")\n",
    "print(\"There are\", miss_validate, \"missclassifications from the validation dataset\")"
   ]
  }
 ],
 "metadata": {
  "kernelspec": {
   "display_name": "Python 3.10.1 64-bit",
   "language": "python",
   "name": "python3"
  },
  "language_info": {
   "codemirror_mode": {
    "name": "ipython",
    "version": 3
   },
   "file_extension": ".py",
   "mimetype": "text/x-python",
   "name": "python",
   "nbconvert_exporter": "python",
   "pygments_lexer": "ipython3",
   "version": "3.10.1"
  },
  "vscode": {
   "interpreter": {
    "hash": "edf259275ad4a72d4dd5b452264ad5fb2b635233dff2a31edc6ebc740e55e21b"
   }
  }
 },
 "nbformat": 4,
 "nbformat_minor": 5
}
