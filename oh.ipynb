{
 "cells": [
  {
   "cell_type": "code",
   "execution_count": 11,
   "id": "e33d1d9f",
   "metadata": {},
   "outputs": [],
   "source": [
    "# import autograd-wrapped numpy\n",
    "import autograd.numpy as np\n",
    "import matplotlib.pyplot as plt\n",
    "from autograd import grad\n",
    "from autograd import hessian\n",
    "from sklearn import svm\n",
    "\n",
    "datapath = \"C:\\\\Users\\\\ohjui\\\\Desktop\\\\northwestern tings\\\\Fall 2022\\\\EE 375\\\\NailBiter\\\\Datasets\\\\\""
   ]
  },
  {
   "cell_type": "code",
   "execution_count": 2,
   "id": "c419ec40",
   "metadata": {},
   "outputs": [],
   "source": [
    "# newton's method function\n",
    "def newtons_method(g, max_its, w, **kwargs):\n",
    "    gradient = grad(g)\n",
    "    hess = hessian(g)\n",
    "    \n",
    "    epsilon = 10**(-7)\n",
    "    if 'epsilon' in kwargs:\n",
    "        epsilon = kwargs['epsilon']\n",
    "        \n",
    "    weight_history = [w]\n",
    "    cost_history = [g(w)]\n",
    "    \n",
    "    for k in range(max_its):\n",
    "    \n",
    "        grad_eval = gradient(w)\n",
    "        hess_eval = hess(w)\n",
    "        \n",
    "        hess_eval.shape = (int((np.size(hess_eval))**(0.5)),int((np.size(hess_eval))**(0.5)))\n",
    "        \n",
    "        A = hess_eval + epsilon*np.eye(w.size)\n",
    "        b = grad_eval\n",
    "        w = np.linalg.solve(A, np.dot(A,w)-b)\n",
    "        \n",
    "        weight_history.append(w)\n",
    "        cost_history.append(g(w))\n",
    "        \n",
    "    return weight_history, cost_history"
   ]
  },
  {
   "cell_type": "code",
   "execution_count": 3,
   "id": "0c5adad7",
   "metadata": {},
   "outputs": [],
   "source": [
    "def gradient_descent(g, max_its, w, alpha):\n",
    "    gradient = grad(g)\n",
    "    \n",
    "    weight_history = [w]\n",
    "    cost_history = [g(w)]\n",
    "    \n",
    "    for k in range(max_its):\n",
    "    \n",
    "        grad_eval = gradient(w)\n",
    "        \n",
    "        w = w - grad_eval*alpha\n",
    "        \n",
    "        weight_history.append(w)\n",
    "        cost_history.append(g(w))\n",
    "        \n",
    "    return weight_history, cost_history"
   ]
  },
  {
   "cell_type": "code",
   "execution_count": 21,
   "id": "ba54fdbe",
   "metadata": {},
   "outputs": [
    {
     "name": "stdout",
     "output_type": "stream",
     "text": [
      "(3858, 6)\n",
      "(3858,)\n",
      "3857\n"
     ]
    }
   ],
   "source": [
    "# load in data\n",
    "csvname = 'simple_dataset.csv'\n",
    "data = np.loadtxt(datapath + csvname, delimiter = ',')\n",
    "\n",
    "x = data[:,:-1]\n",
    "y = data[:,-1]\n",
    "\n",
    "print(np.shape(x))\n",
    "print(np.shape(y))\n",
    "\n",
    "clf = svm.SVC()\n",
    "clf.fit(x, y)\n",
    "\n",
    "print(np.size(y) - np.sum(clf.predict(x) == y))"
   ]
  },
  {
   "cell_type": "code",
   "execution_count": null,
   "id": "d3cdec60",
   "metadata": {},
   "outputs": [],
   "source": []
  }
 ],
 "metadata": {
  "kernelspec": {
   "display_name": "Python 3.10.1 64-bit",
   "language": "python",
   "name": "python3"
  },
  "language_info": {
   "codemirror_mode": {
    "name": "ipython",
    "version": 3
   },
   "file_extension": ".py",
   "mimetype": "text/x-python",
   "name": "python",
   "nbconvert_exporter": "python",
   "pygments_lexer": "ipython3",
   "version": "3.10.1"
  },
  "vscode": {
   "interpreter": {
    "hash": "edf259275ad4a72d4dd5b452264ad5fb2b635233dff2a31edc6ebc740e55e21b"
   }
  }
 },
 "nbformat": 4,
 "nbformat_minor": 5
}
